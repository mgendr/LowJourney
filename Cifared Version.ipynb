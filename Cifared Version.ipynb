{
 "cells": [
  {
   "cell_type": "code",
   "execution_count": 1,
   "id": "c83d8d6a",
   "metadata": {},
   "outputs": [],
   "source": [
    "import numpy as np\n",
    "import matplotlib.pyplot as plt\n",
    "import seaborn as sns\n",
    "import pandas as pd\n",
    "import os\n",
    "import tensorflow as tf\n",
    "\n",
    "from mlxtend.data import loadlocal_mnist\n",
    "from tensorflow.keras.datasets import mnist\n",
    "from tensorflow.keras import Sequential\n",
    "from tensorflow.keras.layers import Dense\n",
    "\n",
    "from sklearn.metrics import accuracy_score, precision_score, recall_score\n",
    "from sklearn.model_selection import train_test_split\n",
    "from tensorflow.keras import layers, losses\n",
    "#from tensorflow.keras.datasets import fashion_mnist\n",
    "from tensorflow.keras.models import Model\n",
    "import random as rd\n",
    "import numpy as np\n",
    "import functools\n",
    "\n",
    "from sklearn import metrics\n",
    "\n",
    "%matplotlib inline"
   ]
  },
  {
   "cell_type": "code",
   "execution_count": 2,
   "id": "61dc5ada",
   "metadata": {},
   "outputs": [
    {
     "data": {
      "text/plain": [
       "(32, 32, 3)"
      ]
     },
     "execution_count": 2,
     "metadata": {},
     "output_type": "execute_result"
    }
   ],
   "source": [
    "32,32,3"
   ]
  },
  {
   "cell_type": "code",
   "execution_count": 3,
   "id": "5062ef40",
   "metadata": {},
   "outputs": [],
   "source": [
    "def unpickle(file):\n",
    "    import pickle\n",
    "    with open(file, 'rb') as fo:\n",
    "        dict = pickle.load(fo, encoding='bytes')\n",
    "    return dict\n",
    "\n",
    "def load_data(dataset_name) :\n",
    "    path_dir_0 = \"./Dataset/\"\n",
    "    if dataset_name == \"MNIST\" :\n",
    "        path_dir = os.path.join(path_dir_0, \"MNIST\")\n",
    "        x_train_path = os.path.join(path_dir,\"train-images.idx3-ubyte\")\n",
    "        y_train_path = os.path.join(path_dir,\"train-labels.idx1-ubyte\")\n",
    "\n",
    "        x_test_path = os.path.join(path_dir,\"t10k-images.idx3-ubyte\")\n",
    "        y_test_path = os.path.join(path_dir,\"t10k-labels.idx1-ubyte\")\n",
    "        x_train, y_train = loadlocal_mnist(x_train_path, y_train_path)\n",
    "\n",
    "        x_test, y_test = loadlocal_mnist(x_test_path, y_test_path)\n",
    "        \n",
    "        x_test = (x_test/255).reshape(-1,28,28)\n",
    "        x_train = (x_train/255).reshape(-1,28,28)\n",
    "    \n",
    "    if dataset_name.lower() == \"cifar\" :\n",
    "        path_dir = os.path.join(path_dir_0, \"cifar-10\")\n",
    "        \n",
    "        \n",
    "        train_labels, train_data = [],[]\n",
    "        \n",
    "        \n",
    "        name_batches = [ i for i in os.listdir(path_dir) if \"data_batch\" in i]\n",
    "        for batch in name_batches :\n",
    "            path_batch = os.path.join(path_dir, batch)\n",
    "            dico = unpickle(path_batch)\n",
    "            train_labels.append(dico[b\"labels\"])\n",
    "            train_data.append(dico[b\"data\"])\n",
    "        x_train = np.concatenate(train_data)\n",
    "        y_train = np.concatenate(train_labels)\n",
    "        \n",
    "        path_batch_test = os.path.join(path_dir, \"test_batch\")\n",
    "        dico = unpickle(path_batch_test)\n",
    "        y_test = np.array(dico[b\"labels\"])\n",
    "        x_test = np.array(dico[b\"data\"])\n",
    "        \n",
    "            \n",
    "        x_train = (x_train/255).reshape(-1,32,32,3, order = \"F\")\n",
    "        x_test = (x_test/255).reshape(-1,32,32,3, order = \"F\")\n",
    "        \n",
    "        \n",
    "    return x_train, x_test\n",
    "\n",
    "x_train, x_test = load_data(\"cifar\") "
   ]
  },
  {
   "cell_type": "code",
   "execution_count": 4,
   "id": "8fdbbac5",
   "metadata": {},
   "outputs": [
    {
     "name": "stdout",
     "output_type": "stream",
     "text": [
      "(50000, 32, 32, 3)\n",
      "(10000, 32, 32, 3)\n"
     ]
    }
   ],
   "source": [
    "print(x_train.shape)\n",
    "\n",
    "print(x_test.shape)\n"
   ]
  },
  {
   "cell_type": "code",
   "execution_count": 5,
   "id": "5efbcba4",
   "metadata": {},
   "outputs": [
    {
     "data": {
      "text/plain": [
       "(32, 32, 3)"
      ]
     },
     "execution_count": 5,
     "metadata": {},
     "output_type": "execute_result"
    }
   ],
   "source": [
    "dims_data = x_train[0].shape\n",
    "dims_data"
   ]
  },
  {
   "cell_type": "code",
   "execution_count": 6,
   "id": "72c48e3d",
   "metadata": {},
   "outputs": [
    {
     "data": {
      "image/png": "[encoded data removed]",
      "text/plain": [
       "<Figure size 432x288 with 1 Axes>"
      ]
     },
     "metadata": {
      "needs_background": "light"
     },
     "output_type": "display_data"
    }
   ],
   "source": [
    "imgplot = plt.imshow(x_test[650])\n"
   ]
  },
  {
   "cell_type": "code",
   "execution_count": 8,
   "id": "794d762a",
   "metadata": {},
   "outputs": [
    {
     "ename": "ValueError",
     "evalue": "Exception encountered when calling layer \"reshape_3\" \"                 f\"(type Reshape).\n\ntotal size of new array must be unchanged, input_shape = [28, 28], output_shape = [32, 32, 3]\n\nCall arguments received by layer \"reshape_3\" \"                 f\"(type Reshape):\n  • inputs=tf.Tensor(shape=(None, 28, 28), dtype=float32)",
     "output_type": "error",
     "traceback": [
      "\u001b[1;31m---------------------------------------------------------------------------\u001b[0m",
      "\u001b[1;31mValueError\u001b[0m                                Traceback (most recent call last)",
      "Input \u001b[1;32mIn [8]\u001b[0m, in \u001b[0;36m<cell line: 57>\u001b[1;34m()\u001b[0m\n\u001b[0;32m     55\u001b[0m autoencoder \u001b[38;5;241m=\u001b[39m Autoencoder_W_CNN(latent_dim)\n\u001b[0;32m     56\u001b[0m autoencoder\u001b[38;5;241m.\u001b[39mcompile(optimizer\u001b[38;5;241m=\u001b[39m\u001b[38;5;124m'\u001b[39m\u001b[38;5;124madam\u001b[39m\u001b[38;5;124m'\u001b[39m, loss\u001b[38;5;241m=\u001b[39mlosses\u001b[38;5;241m.\u001b[39mMeanSquaredError())\n\u001b[1;32m---> 57\u001b[0m \u001b[43mautoencoder\u001b[49m\u001b[38;5;241;43m.\u001b[39;49m\u001b[43mbuild\u001b[49m\u001b[43m(\u001b[49m\u001b[43m(\u001b[49m\u001b[38;5;28;43;01mNone\u001b[39;49;00m\u001b[43m,\u001b[49m\u001b[43m \u001b[49m\u001b[38;5;241;43m28\u001b[39;49m\u001b[43m,\u001b[49m\u001b[43m \u001b[49m\u001b[38;5;241;43m28\u001b[39;49m\u001b[43m)\u001b[49m\u001b[43m)\u001b[49m\n\u001b[0;32m     58\u001b[0m autoencoder\u001b[38;5;241m.\u001b[39msummary()\n",
      "File \u001b[1;32m~\\anaconda3\\lib\\site-packages\\keras\\engine\\training.py:509\u001b[0m, in \u001b[0;36mModel.build\u001b[1;34m(self, input_shape)\u001b[0m\n\u001b[0;32m    504\u001b[0m     \u001b[38;5;28;01mraise\u001b[39;00m \u001b[38;5;167;01mValueError\u001b[39;00m(\n\u001b[0;32m    505\u001b[0m         \u001b[38;5;124m\"\u001b[39m\u001b[38;5;124mYou can only call `build()` on a model if its \u001b[39m\u001b[38;5;124m\"\u001b[39m\n\u001b[0;32m    506\u001b[0m         \u001b[38;5;124m\"\u001b[39m\u001b[38;5;124m`call()` method accepts an `inputs` argument.\u001b[39m\u001b[38;5;124m\"\u001b[39m\n\u001b[0;32m    507\u001b[0m     )\n\u001b[0;32m    508\u001b[0m \u001b[38;5;28;01mtry\u001b[39;00m:\n\u001b[1;32m--> 509\u001b[0m     \u001b[38;5;28mself\u001b[39m\u001b[38;5;241m.\u001b[39mcall(x, \u001b[38;5;241m*\u001b[39m\u001b[38;5;241m*\u001b[39mkwargs)\n\u001b[0;32m    510\u001b[0m \u001b[38;5;28;01mexcept\u001b[39;00m (tf\u001b[38;5;241m.\u001b[39merrors\u001b[38;5;241m.\u001b[39mInvalidArgumentError, \u001b[38;5;167;01mTypeError\u001b[39;00m) \u001b[38;5;28;01mas\u001b[39;00m e:\n\u001b[0;32m    511\u001b[0m     \u001b[38;5;28;01mraise\u001b[39;00m \u001b[38;5;167;01mValueError\u001b[39;00m(\n\u001b[0;32m    512\u001b[0m         \u001b[38;5;124m\"\u001b[39m\u001b[38;5;124mYou cannot build your model by calling `build` \u001b[39m\u001b[38;5;124m\"\u001b[39m\n\u001b[0;32m    513\u001b[0m         \u001b[38;5;124m\"\u001b[39m\u001b[38;5;124mif your layers do not support float type inputs. \u001b[39m\u001b[38;5;124m\"\u001b[39m\n\u001b[1;32m   (...)\u001b[0m\n\u001b[0;32m    517\u001b[0m         \u001b[38;5;124mf\u001b[39m\u001b[38;5;124m\"\u001b[39m\u001b[38;5;124m`call` is: \u001b[39m\u001b[38;5;132;01m{\u001b[39;00me\u001b[38;5;132;01m}\u001b[39;00m\u001b[38;5;124m.\u001b[39m\u001b[38;5;124m\"\u001b[39m\n\u001b[0;32m    518\u001b[0m     )\n",
      "Input \u001b[1;32mIn [8]\u001b[0m, in \u001b[0;36mAutoencoder_W_CNN.call\u001b[1;34m(self, x)\u001b[0m\n\u001b[0;32m     48\u001b[0m \u001b[38;5;28;01mdef\u001b[39;00m \u001b[38;5;21mcall\u001b[39m(\u001b[38;5;28mself\u001b[39m, x):\n\u001b[1;32m---> 49\u001b[0m     encoded \u001b[38;5;241m=\u001b[39m \u001b[38;5;28;43mself\u001b[39;49m\u001b[38;5;241;43m.\u001b[39;49m\u001b[43mencoder\u001b[49m\u001b[43m(\u001b[49m\u001b[43mx\u001b[49m\u001b[43m)\u001b[49m\n\u001b[0;32m     50\u001b[0m     decoded \u001b[38;5;241m=\u001b[39m \u001b[38;5;28mself\u001b[39m\u001b[38;5;241m.\u001b[39mdecoder(encoded)\n\u001b[0;32m     51\u001b[0m     \u001b[38;5;28;01mreturn\u001b[39;00m decoded\n",
      "File \u001b[1;32m~\\anaconda3\\lib\\site-packages\\keras\\utils\\traceback_utils.py:70\u001b[0m, in \u001b[0;36mfilter_traceback.<locals>.error_handler\u001b[1;34m(*args, **kwargs)\u001b[0m\n\u001b[0;32m     67\u001b[0m     filtered_tb \u001b[38;5;241m=\u001b[39m _process_traceback_frames(e\u001b[38;5;241m.\u001b[39m__traceback__)\n\u001b[0;32m     68\u001b[0m     \u001b[38;5;66;03m# To get the full stack trace, call:\u001b[39;00m\n\u001b[0;32m     69\u001b[0m     \u001b[38;5;66;03m# `tf.debugging.disable_traceback_filtering()`\u001b[39;00m\n\u001b[1;32m---> 70\u001b[0m     \u001b[38;5;28;01mraise\u001b[39;00m e\u001b[38;5;241m.\u001b[39mwith_traceback(filtered_tb) \u001b[38;5;28;01mfrom\u001b[39;00m \u001b[38;5;28mNone\u001b[39m\n\u001b[0;32m     71\u001b[0m \u001b[38;5;28;01mfinally\u001b[39;00m:\n\u001b[0;32m     72\u001b[0m     \u001b[38;5;28;01mdel\u001b[39;00m filtered_tb\n",
      "File \u001b[1;32m~\\anaconda3\\lib\\site-packages\\keras\\layers\\reshaping\\reshape.py:118\u001b[0m, in \u001b[0;36mReshape._fix_unknown_dimension\u001b[1;34m(self, input_shape, output_shape)\u001b[0m\n\u001b[0;32m    116\u001b[0m     output_shape[unknown] \u001b[38;5;241m=\u001b[39m original \u001b[38;5;241m/\u001b[39m\u001b[38;5;241m/\u001b[39m known\n\u001b[0;32m    117\u001b[0m \u001b[38;5;28;01melif\u001b[39;00m original \u001b[38;5;241m!=\u001b[39m known:\n\u001b[1;32m--> 118\u001b[0m     \u001b[38;5;28;01mraise\u001b[39;00m \u001b[38;5;167;01mValueError\u001b[39;00m(msg)\n\u001b[0;32m    119\u001b[0m \u001b[38;5;28;01mreturn\u001b[39;00m output_shape\n",
      "\u001b[1;31mValueError\u001b[0m: Exception encountered when calling layer \"reshape_3\" \"                 f\"(type Reshape).\n\ntotal size of new array must be unchanged, input_shape = [28, 28], output_shape = [32, 32, 3]\n\nCall arguments received by layer \"reshape_3\" \"                 f\"(type Reshape):\n  • inputs=tf.Tensor(shape=(None, 28, 28), dtype=float32)"
     ]
    }
   ],
   "source": [
    "latent_dim = 512\n",
    "\n",
    "\n",
    "dim_dense_decoder = functools.reduce(lambda a,b : a*b, dims_data)\n",
    "class Autoencoder(Model):\n",
    "    def __init__(self, latent_dim):\n",
    "        super(Autoencoder, self).__init__()\n",
    "        self.latent_dim = latent_dim   \n",
    "        \n",
    "        self.encoder = tf.keras.Sequential([layers.Flatten(), layers.Dense(latent_dim, activation='relu'),])\n",
    "        \n",
    "        self.decoder = tf.keras.Sequential([layers.Dense(dim_dense_decoder, activation='sigmoid'),layers.Reshape(dims_data)])\n",
    "\n",
    "    def call(self, x):\n",
    "        encoded = self.encoder(x)\n",
    "        decoded = self.decoder(encoded)\n",
    "        return decoded\n",
    "\n",
    "class Autoencoder_W_CNN(Model):\n",
    "    def __init__(self, latent_dim):\n",
    "        super(Autoencoder_W_CNN, self).__init__()\n",
    "        self.latent_dim = latent_dim   \n",
    "        \n",
    "        self.encoder = tf.keras.Sequential([layers.Reshape((dims_data[0], dims_data[1], dims_data[2])),\n",
    "                                            \n",
    "                                            layers.Conv2D(32, (3, 3), activation='relu'),\n",
    "                                            layers.MaxPooling2D((2, 2)),\n",
    "                                            layers.Flatten(),\n",
    "                                            \n",
    "                                            layers.Dense(latent_dim, activation='relu') ])\n",
    "        \n",
    "        size_2D_latent_space = int(latent_dim**0.5)\n",
    "\n",
    "\n",
    "        self.decoder = tf.keras.Sequential([\n",
    "                                            \n",
    "                                            layers.Reshape((size_2D_latent_space,-1, dims_data[2])),\n",
    "            \n",
    "                                            layers.Conv2D(32, (3, 3), activation='relu'),\n",
    "                                            layers.MaxPooling2D((2, 2)),\n",
    "                                            layers.Flatten(),\n",
    "            \n",
    "                                            layers.Dense(dim_dense_decoder, activation='relu'),\n",
    "                                            layers.Reshape(dims_data)\n",
    "                                            ])\n",
    "\n",
    "\n",
    "    def call(self, x):\n",
    "        encoded = self.encoder(x)\n",
    "        decoded = self.decoder(encoded)\n",
    "        return decoded    \n",
    "    \n",
    "    \n",
    "    \n",
    "autoencoder = Autoencoder_W_CNN(latent_dim)\n",
    "autoencoder.compile(optimizer='adam', loss=losses.MeanSquaredError())\n",
    "autoencoder.build((None, 28, 28))\n",
    "autoencoder.summary()"
   ]
  },
  {
   "cell_type": "code",
   "execution_count": null,
   "id": "80f11cd5",
   "metadata": {},
   "outputs": [],
   "source": []
  },
  {
   "cell_type": "code",
   "execution_count": null,
   "id": "27fe7bac",
   "metadata": {},
   "outputs": [],
   "source": [
    "hist = autoencoder.fit(x_train, x_train,\n",
    "                epochs=15,\n",
    "                shuffle=True,\n",
    "                validation_data=(x_test, x_test))"
   ]
  },
  {
   "cell_type": "code",
   "execution_count": null,
   "id": "5291a19f",
   "metadata": {},
   "outputs": [],
   "source": [
    "fig =plt.figure()\n",
    "plt.plot(hist.history['loss'], color ='teal', label ='train_loss')\n",
    "fig.suptitle('Loss', fontsize =20)\n",
    "plt.legend(loc =\"upper left\")\n",
    "plt.show()"
   ]
  },
  {
   "cell_type": "markdown",
   "id": "2a83e3d9",
   "metadata": {},
   "source": [
    "# Test"
   ]
  },
  {
   "cell_type": "code",
   "execution_count": null,
   "id": "8ab0caa4",
   "metadata": {},
   "outputs": [],
   "source": [
    "id_current = 15"
   ]
  },
  {
   "cell_type": "code",
   "execution_count": null,
   "id": "5708e1a3",
   "metadata": {},
   "outputs": [],
   "source": [
    "imgplot = plt.imshow(x_test[id_current])"
   ]
  },
  {
   "cell_type": "code",
   "execution_count": null,
   "id": "dc21922c",
   "metadata": {},
   "outputs": [],
   "source": [
    "encoded_imgs_test = autoencoder.encoder(x_test).numpy()\n",
    "decoded_imgs = autoencoder.decoder(encoded_imgs_test).numpy()\n",
    "\n",
    "imgplot = plt.imshow(decoded_imgs[id_current])"
   ]
  },
  {
   "cell_type": "code",
   "execution_count": null,
   "id": "8ea7ffd3",
   "metadata": {},
   "outputs": [],
   "source": []
  },
  {
   "cell_type": "code",
   "execution_count": null,
   "id": "1369449c",
   "metadata": {},
   "outputs": [],
   "source": [
    "df_tmp = pd.DataFrame(encoded_imgs_test)\n",
    "df_tmp.boxplot()"
   ]
  },
  {
   "cell_type": "markdown",
   "id": "db4d6b42",
   "metadata": {},
   "source": [
    "# Noise"
   ]
  },
  {
   "cell_type": "code",
   "execution_count": null,
   "id": "07955abb",
   "metadata": {},
   "outputs": [],
   "source": [
    "def random_from_distrib(distrib) :\n",
    "    #distrib = distrib.reshape(-1)\n",
    "\n",
    "    n, size = distrib.shape\n",
    "    \n",
    "    \n",
    "    out = np.array([rd.choice(distrib[:,j]) for j in range(size)])\n",
    "    \n",
    "    return out"
   ]
  },
  {
   "cell_type": "code",
   "execution_count": null,
   "id": "bf392771",
   "metadata": {},
   "outputs": [],
   "source": [
    "\n",
    "def get_generated_images(model, distrib, count = 1) :\n",
    "    \n",
    "    noise_list = []\n",
    "    for i in range(count) : \n",
    "        \n",
    "        noise_list.append(random_from_distrib(distrib) ) \n",
    "        \n",
    "    noise_array = np.array(noise_list)\n",
    "    noise_decoded = model.decoder(noise_array).numpy()\n",
    "    \n",
    "    return noise_decoded\n",
    "\n",
    "\n"
   ]
  },
  {
   "cell_type": "code",
   "execution_count": null,
   "id": "bd772128",
   "metadata": {},
   "outputs": [],
   "source": [
    "generated_images = get_generated_images(autoencoder,encoded_imgs_test, count = 15)\n",
    "fig, ax = plt.subplots(3, 5, figsize=(14,8))\n",
    "fig.tight_layout()\n",
    "\n",
    "#create subplots\n",
    "for i in range(5) :\n",
    "    for j in range(3) :\n",
    "        ax[j, i].imshow(generated_images[j*5+i])\n"
   ]
  },
  {
   "cell_type": "code",
   "execution_count": null,
   "id": "174c7b24",
   "metadata": {},
   "outputs": [],
   "source": []
  },
  {
   "cell_type": "code",
   "execution_count": null,
   "id": "8d935430",
   "metadata": {},
   "outputs": [],
   "source": []
  },
  {
   "cell_type": "code",
   "execution_count": null,
   "id": "975cd1d3",
   "metadata": {},
   "outputs": [],
   "source": []
  },
  {
   "cell_type": "code",
   "execution_count": null,
   "id": "8614815d",
   "metadata": {},
   "outputs": [],
   "source": []
  }
 ],
 "metadata": {
  "kernelspec": {
   "display_name": "Python 3 (ipykernel)",
   "language": "python",
   "name": "python3"
  },
  "language_info": {
   "codemirror_mode": {
    "name": "ipython",
    "version": 3
   },
   "file_extension": ".py",
   "mimetype": "text/x-python",
   "name": "python",
   "nbconvert_exporter": "python",
   "pygments_lexer": "ipython3",
   "version": "3.9.12"
  }
 },
 "nbformat": 4,
 "nbformat_minor": 5
}
