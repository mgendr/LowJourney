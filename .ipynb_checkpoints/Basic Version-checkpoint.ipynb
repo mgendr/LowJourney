{
 "cells": [
  {
   "cell_type": "code",
   "execution_count": 1,
   "id": "c83d8d6a",
   "metadata": {},
   "outputs": [],
   "source": [
    "import numpy as np\n",
    "import matplotlib.pyplot as plt\n",
    "import seaborn as sns\n",
    "import pandas as pd\n",
    "import os\n",
    "import tensorflow as tf\n",
    "\n",
    "from mlxtend.data import loadlocal_mnist\n",
    "from tensorflow.keras.datasets import mnist\n",
    "from tensorflow.keras import Sequential\n",
    "from tensorflow.keras.layers import Dense\n",
    "from tensorflow.keras.layers import Conv2D, MaxPool2D, Dense, Flatten, Dropout\n",
    "\n",
    "from sklearn.metrics import accuracy_score, precision_score, recall_score\n",
    "from sklearn.model_selection import train_test_split\n",
    "from tensorflow.keras import layers, losses\n",
    "#from tensorflow.keras.datasets import fashion_mnist\n",
    "from tensorflow.keras.models import Model\n",
    "import random as rd\n",
    "import numpy as np\n",
    "import functools\n",
    "\n",
    "from sklearn import metrics\n",
    "\n",
    "%matplotlib inline"
   ]
  },
  {
   "cell_type": "code",
   "execution_count": 2,
   "id": "5062ef40",
   "metadata": {},
   "outputs": [],
   "source": [
    "def load_data(dataset_name) :\n",
    "    path_dir_0 = \"./Dataset/\"\n",
    "    if dataset_name == \"MNIST\" :\n",
    "        path_dir = os.path.join(path_dir_0, \"MNIST\")\n",
    "        x_train_path = os.path.join(path_dir,\"train-images.idx3-ubyte\")\n",
    "        y_train_path = os.path.join(path_dir,\"train-labels.idx1-ubyte\")\n",
    "\n",
    "        x_test_path = os.path.join(path_dir,\"t10k-images.idx3-ubyte\")\n",
    "        y_test_path = os.path.join(path_dir,\"t10k-labels.idx1-ubyte\")\n",
    "        x_train, y_train = loadlocal_mnist(x_train_path, y_train_path)\n",
    "\n",
    "        x_test, y_test = loadlocal_mnist(x_test_path, y_test_path)\n",
    "        \n",
    "        x_test = (x_test/255).reshape(-1,28,28)\n",
    "        x_train = (x_train/255).reshape(-1,28,28)\n",
    "        \n",
    "        \n",
    "        \n",
    "    return x_train, x_test\n",
    "\n",
    "x_train, x_test = load_data(\"MNIST\") "
   ]
  },
  {
   "cell_type": "code",
   "execution_count": 3,
   "id": "8fdbbac5",
   "metadata": {},
   "outputs": [
    {
     "name": "stdout",
     "output_type": "stream",
     "text": [
      "(60000, 28, 28)\n",
      "(10000, 28, 28)\n"
     ]
    }
   ],
   "source": [
    "print(x_train.shape)\n",
    "\n",
    "print(x_test.shape)\n"
   ]
  },
  {
   "cell_type": "code",
   "execution_count": 4,
   "id": "5efbcba4",
   "metadata": {},
   "outputs": [
    {
     "data": {
      "text/plain": [
       "(28, 28)"
      ]
     },
     "execution_count": 4,
     "metadata": {},
     "output_type": "execute_result"
    }
   ],
   "source": [
    "dims_data = x_train[0].shape\n",
    "dims_data"
   ]
  },
  {
   "cell_type": "code",
   "execution_count": 5,
   "id": "72c48e3d",
   "metadata": {},
   "outputs": [
    {
     "data": {
      "image/png": "[encoded data removed]",
      "text/plain": [
       "<Figure size 432x288 with 1 Axes>"
      ]
     },
     "metadata": {
      "needs_background": "light"
     },
     "output_type": "display_data"
    }
   ],
   "source": [
    "imgplot = plt.imshow(x_test[0])\n"
   ]
  },
  {
   "cell_type": "code",
   "execution_count": null,
   "id": "e271076a",
   "metadata": {},
   "outputs": [],
   "source": []
  },
  {
   "cell_type": "code",
   "execution_count": 12,
   "id": "794d762a",
   "metadata": {},
   "outputs": [
    {
     "name": "stdout",
     "output_type": "stream",
     "text": [
      "Model: \"autoencoder_w_cnn_5\"\n",
      "_________________________________________________________________\n",
      " Layer (type)                Output Shape              Param #   \n",
      "=================================================================\n",
      " sequential_10 (Sequential)  (None, 25)                135545    \n",
      "                                                                 \n",
      " sequential_11 (Sequential)  (None, 28, 28)            26192     \n",
      "                                                                 \n",
      "=================================================================\n",
      "Total params: 161,737\n",
      "Trainable params: 161,737\n",
      "Non-trainable params: 0\n",
      "_________________________________________________________________\n"
     ]
    }
   ],
   "source": [
    "latent_dim = 25\n",
    "\n",
    "\n",
    "dim_dense_decoder = functools.reduce(lambda a,b : a*b, dims_data)\n",
    "class Autoencoder_base(Model):\n",
    "    def __init__(self, latent_dim):\n",
    "        super(Autoencoder_base, self).__init__()\n",
    "        self.latent_dim = latent_dim   \n",
    "        \n",
    "        self.encoder = tf.keras.Sequential([layers.Flatten(), layers.Dense(latent_dim, activation='relu'),])\n",
    "        \n",
    "        self.decoder = tf.keras.Sequential([layers.Dense(dims_data[0]*dims_data[1], activation='sigmoid'),layers.Reshape(dims_data)])\n",
    "\n",
    "    def call(self, x):\n",
    "        encoded = self.encoder(x)\n",
    "        decoded = self.decoder(encoded)\n",
    "        return decoded\n",
    "\n",
    "    \n",
    "class Autoencoder_W_CNN(Model):\n",
    "    def __init__(self, latent_dim):\n",
    "        super(Autoencoder_W_CNN, self).__init__()\n",
    "        self.latent_dim = latent_dim   \n",
    "        \n",
    "        self.encoder = tf.keras.Sequential([layers.Reshape((dims_data[0], dims_data[1], 1)),\n",
    "                                            \n",
    "                                            layers.Conv2D(32, (3, 3), activation='relu'),\n",
    "                                            layers.MaxPooling2D((2, 2)),\n",
    "                                            layers.Flatten(),\n",
    "                                            \n",
    "                                            layers.Dense(latent_dim, activation='relu') ])\n",
    "        \n",
    "        size_2D_latent_space = int(latent_dim**0.5)\n",
    "\n",
    "\n",
    "        self.decoder = tf.keras.Sequential([\n",
    "                                            \n",
    "                                            layers.Reshape((size_2D_latent_space,-1,1)),\n",
    "            \n",
    "                                            layers.Conv2D(32, (3, 3), activation='relu'),\n",
    "                                            layers.MaxPooling2D((2, 2)),\n",
    "                                            layers.Flatten(),\n",
    "            \n",
    "                                            layers.Dense(dim_dense_decoder, activation='sigmoid'),\n",
    "                                            layers.Reshape(dims_data)\n",
    "                                            ])\n",
    "\n",
    "\n",
    "    def call(self, x):\n",
    "        encoded = self.encoder(x)\n",
    "        decoded = self.decoder(encoded)\n",
    "        return decoded\n",
    "\n",
    "autoencoder = Autoencoder_W_CNN(latent_dim)\n",
    "autoencoder.compile(optimizer='adam', loss=losses.MeanSquaredError())\n",
    "autoencoder.build((None, 28, 28))\n",
    "autoencoder.summary()"
   ]
  },
  {
   "cell_type": "code",
   "execution_count": null,
   "id": "80f11cd5",
   "metadata": {},
   "outputs": [],
   "source": []
  },
  {
   "cell_type": "code",
   "execution_count": null,
   "id": "08d84d60",
   "metadata": {},
   "outputs": [],
   "source": []
  },
  {
   "cell_type": "code",
   "execution_count": 13,
   "id": "27fe7bac",
   "metadata": {},
   "outputs": [
    {
     "name": "stdout",
     "output_type": "stream",
     "text": [
      "Epoch 1/15\n",
      "1875/1875 [==============================] - 34s 18ms/step - loss: 0.0473 - val_loss: 0.0412\n",
      "Epoch 2/15\n",
      "1875/1875 [==============================] - 41s 22ms/step - loss: 0.0398 - val_loss: 0.0379\n",
      "Epoch 3/15\n",
      "1875/1875 [==============================] - 34s 18ms/step - loss: 0.0375 - val_loss: 0.0365\n",
      "Epoch 4/15\n",
      "1875/1875 [==============================] - 27s 14ms/step - loss: 0.0360 - val_loss: 0.0354\n",
      "Epoch 5/15\n",
      "1875/1875 [==============================] - 32s 17ms/step - loss: 0.0353 - val_loss: 0.0345\n",
      "Epoch 6/15\n",
      "1875/1875 [==============================] - 26s 14ms/step - loss: 0.0347 - val_loss: 0.0346\n",
      "Epoch 7/15\n",
      "1875/1875 [==============================] - 33s 17ms/step - loss: 0.0343 - val_loss: 0.0339\n",
      "Epoch 8/15\n",
      "1875/1875 [==============================] - 33s 18ms/step - loss: 0.0340 - val_loss: 0.0338\n",
      "Epoch 9/15\n",
      "1875/1875 [==============================] - 23s 12ms/step - loss: 0.0338 - val_loss: 0.0337\n",
      "Epoch 10/15\n",
      "1875/1875 [==============================] - 25s 14ms/step - loss: 0.0337 - val_loss: 0.0334\n",
      "Epoch 11/15\n",
      "1875/1875 [==============================] - 31s 17ms/step - loss: 0.0336 - val_loss: 0.0334\n",
      "Epoch 12/15\n",
      "1875/1875 [==============================] - 37s 20ms/step - loss: 0.0334 - val_loss: 0.0335\n",
      "Epoch 13/15\n",
      "1875/1875 [==============================] - 46s 25ms/step - loss: 0.0333 - val_loss: 0.0331\n",
      "Epoch 14/15\n",
      "1875/1875 [==============================] - 26s 14ms/step - loss: 0.0333 - val_loss: 0.0330\n",
      "Epoch 15/15\n",
      "1875/1875 [==============================] - 25s 14ms/step - loss: 0.0332 - val_loss: 0.0330\n"
     ]
    }
   ],
   "source": [
    "hist = autoencoder.fit(x_train, x_train,\n",
    "                epochs=15,\n",
    "                shuffle=True,\n",
    "                validation_data=(x_test, x_test))"
   ]
  },
  {
   "cell_type": "code",
   "execution_count": 14,
   "id": "cce7ae7d",
   "metadata": {},
   "outputs": [
    {
     "data": {
      "image/png": "[encoded data removed]",
      "text/plain": [
       "<Figure size 432x288 with 1 Axes>"
      ]
     },
     "metadata": {
      "needs_background": "light"
     },
     "output_type": "display_data"
    }
   ],
   "source": [
    "fig =plt.figure()\n",
    "plt.plot(hist.history['loss'], color ='teal', label ='train_loss')\n",
    "fig.suptitle('Loss', fontsize =20)\n",
    "plt.legend(loc =\"upper left\")\n",
    "plt.show()"
   ]
  },
  {
   "cell_type": "markdown",
   "id": "2a83e3d9",
   "metadata": {},
   "source": [
    "# Test"
   ]
  },
  {
   "cell_type": "code",
   "execution_count": 15,
   "id": "8ab0caa4",
   "metadata": {},
   "outputs": [],
   "source": [
    "id_current = 15"
   ]
  },
  {
   "cell_type": "code",
   "execution_count": 16,
   "id": "5708e1a3",
   "metadata": {},
   "outputs": [
    {
     "data": {
      "image/png": "[encoded data removed]",
      "text/plain": [
       "<Figure size 432x288 with 1 Axes>"
      ]
     },
     "metadata": {
      "needs_background": "light"
     },
     "output_type": "display_data"
    }
   ],
   "source": [
    "imgplot = plt.imshow(x_test[id_current])"
   ]
  },
  {
   "cell_type": "code",
   "execution_count": 17,
   "id": "dc21922c",
   "metadata": {},
   "outputs": [
    {
     "data": {
      "image/png": "[encoded data removed]",
      "text/plain": [
       "<Figure size 432x288 with 1 Axes>"
      ]
     },
     "metadata": {
      "needs_background": "light"
     },
     "output_type": "display_data"
    }
   ],
   "source": [
    "encoded_imgs_test = autoencoder.encoder(x_test).numpy()\n",
    "decoded_imgs = autoencoder.decoder(encoded_imgs_test).numpy()\n",
    "\n",
    "imgplot = plt.imshow(decoded_imgs[id_current])"
   ]
  },
  {
   "cell_type": "code",
   "execution_count": null,
   "id": "8ea7ffd3",
   "metadata": {},
   "outputs": [],
   "source": []
  },
  {
   "cell_type": "code",
   "execution_count": 18,
   "id": "1369449c",
   "metadata": {},
   "outputs": [
    {
     "data": {
      "text/plain": [
       "<AxesSubplot:>"
      ]
     },
     "execution_count": 18,
     "metadata": {},
     "output_type": "execute_result"
    },
    {
     "data": {
      "image/png": "[encoded data removed]",
      "text/plain": [
       "<Figure size 432x288 with 1 Axes>"
      ]
     },
     "metadata": {
      "needs_background": "light"
     },
     "output_type": "display_data"
    }
   ],
   "source": [
    "df_tmp = pd.DataFrame(encoded_imgs_test)\n",
    "df_tmp.boxplot()"
   ]
  },
  {
   "cell_type": "markdown",
   "id": "db4d6b42",
   "metadata": {},
   "source": [
    "# Noise"
   ]
  },
  {
   "cell_type": "code",
   "execution_count": 19,
   "id": "07955abb",
   "metadata": {},
   "outputs": [],
   "source": [
    "def random_from_distrib(distrib) :\n",
    "    #distrib = distrib.reshape(-1)\n",
    "\n",
    "    n, size = distrib.shape\n",
    "    \n",
    "    \n",
    "    out = np.array([rd.choice(distrib[:,j]) for j in range(size)])\n",
    "    \n",
    "    return out"
   ]
  },
  {
   "cell_type": "code",
   "execution_count": 20,
   "id": "bf392771",
   "metadata": {},
   "outputs": [],
   "source": [
    "\n",
    "def get_generated_images(model, distrib, count = 1) :\n",
    "    \n",
    "    noise_list = []\n",
    "    for i in range(count) : \n",
    "        \n",
    "        noise_list.append(random_from_distrib(distrib) ) \n",
    "        \n",
    "    noise_array = np.array(noise_list)\n",
    "    noise_decoded = model.decoder(noise_array).numpy()\n",
    "    \n",
    "    return noise_decoded\n",
    "\n",
    "\n"
   ]
  },
  {
   "cell_type": "code",
   "execution_count": 21,
   "id": "bd772128",
   "metadata": {},
   "outputs": [
    {
     "data": {
      "image/png": "[encoded data removed]",
      "text/plain": [
       "<Figure size 1008x576 with 15 Axes>"
      ]
     },
     "metadata": {
      "needs_background": "light"
     },
     "output_type": "display_data"
    }
   ],
   "source": [
    "generated_images = get_generated_images(autoencoder,encoded_imgs_test, count = 15)\n",
    "fig, ax = plt.subplots(3, 5, figsize=(14,8))\n",
    "fig.tight_layout()\n",
    "\n",
    "#create subplots\n",
    "for i in range(5) :\n",
    "    for j in range(3) :\n",
    "        ax[j, i].imshow(generated_images[j*5+i])\n"
   ]
  },
  {
   "cell_type": "code",
   "execution_count": null,
   "id": "174c7b24",
   "metadata": {},
   "outputs": [],
   "source": []
  },
  {
   "cell_type": "code",
   "execution_count": null,
   "id": "dc3dc0f9",
   "metadata": {},
   "outputs": [],
   "source": []
  },
  {
   "cell_type": "code",
   "execution_count": null,
   "id": "7eeacec7",
   "metadata": {},
   "outputs": [],
   "source": []
  },
  {
   "cell_type": "code",
   "execution_count": null,
   "id": "54b7b677",
   "metadata": {},
   "outputs": [],
   "source": []
  }
 ],
 "metadata": {
  "kernelspec": {
   "display_name": "Python 3 (ipykernel)",
   "language": "python",
   "name": "python3"
  },
  "language_info": {
   "codemirror_mode": {
    "name": "ipython",
    "version": 3
   },
   "file_extension": ".py",
   "mimetype": "text/x-python",
   "name": "python",
   "nbconvert_exporter": "python",
   "pygments_lexer": "ipython3",
   "version": "3.9.12"
  }
 },
 "nbformat": 4,
 "nbformat_minor": 5
}
