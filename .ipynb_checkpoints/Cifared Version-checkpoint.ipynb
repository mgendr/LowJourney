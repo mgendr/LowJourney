{
 "cells": [
  {
   "cell_type": "code",
   "execution_count": 1,
   "id": "c83d8d6a",
   "metadata": {},
   "outputs": [],
   "source": [
    "import numpy as np\n",
    "import matplotlib.pyplot as plt\n",
    "import seaborn as sns\n",
    "import pandas as pd\n",
    "import os\n",
    "import tensorflow as tf\n",
    "\n",
    "from mlxtend.data import loadlocal_mnist\n",
    "from tensorflow.keras.datasets import mnist\n",
    "from tensorflow.keras import Sequential\n",
    "from tensorflow.keras.layers import Dense\n",
    "\n",
    "from sklearn.metrics import accuracy_score, precision_score, recall_score\n",
    "from sklearn.model_selection import train_test_split\n",
    "from tensorflow.keras import layers, losses\n",
    "#from tensorflow.keras.datasets import fashion_mnist\n",
    "from tensorflow.keras.models import Model\n",
    "import random as rd\n",
    "import numpy as np\n",
    "import functools\n",
    "\n",
    "from sklearn import metrics\n",
    "\n",
    "%matplotlib inline"
   ]
  },
  {
   "cell_type": "code",
   "execution_count": 2,
   "id": "61dc5ada",
   "metadata": {},
   "outputs": [
    {
     "data": {
      "text/plain": [
       "(32, 32, 3)"
      ]
     },
     "execution_count": 2,
     "metadata": {},
     "output_type": "execute_result"
    }
   ],
   "source": [
    "32,32,3"
   ]
  },
  {
   "cell_type": "code",
   "execution_count": 3,
   "id": "5062ef40",
   "metadata": {},
   "outputs": [],
   "source": [
    "def unpickle(file):\n",
    "    import pickle\n",
    "    with open(file, 'rb') as fo:\n",
    "        dict = pickle.load(fo, encoding='bytes')\n",
    "    return dict\n",
    "\n",
    "def load_data(dataset_name) :\n",
    "    path_dir_0 = \"./Dataset/\"\n",
    "    if dataset_name == \"MNIST\" :\n",
    "        path_dir = os.path.join(path_dir_0, \"MNIST\")\n",
    "        x_train_path = os.path.join(path_dir,\"train-images.idx3-ubyte\")\n",
    "        y_train_path = os.path.join(path_dir,\"train-labels.idx1-ubyte\")\n",
    "\n",
    "        x_test_path = os.path.join(path_dir,\"t10k-images.idx3-ubyte\")\n",
    "        y_test_path = os.path.join(path_dir,\"t10k-labels.idx1-ubyte\")\n",
    "        x_train, y_train = loadlocal_mnist(x_train_path, y_train_path)\n",
    "\n",
    "        x_test, y_test = loadlocal_mnist(x_test_path, y_test_path)\n",
    "        \n",
    "        x_test = (x_test/255).reshape(-1,28,28)\n",
    "        x_train = (x_train/255).reshape(-1,28,28)\n",
    "    \n",
    "    if dataset_name.lower() == \"cifar\" :\n",
    "        path_dir = os.path.join(path_dir_0, \"cifar-10\")\n",
    "        \n",
    "        \n",
    "        train_labels, train_data = [],[]\n",
    "        \n",
    "        \n",
    "        name_batches = [ i for i in os.listdir(path_dir) if \"data_batch\" in i]\n",
    "        for batch in name_batches :\n",
    "            path_batch = os.path.join(path_dir, batch)\n",
    "            dico = unpickle(path_batch)\n",
    "            train_labels.append(dico[b\"labels\"])\n",
    "            train_data.append(dico[b\"data\"])\n",
    "        x_train = np.concatenate(train_data)\n",
    "        y_train = np.concatenate(train_labels)\n",
    "        \n",
    "        path_batch_test = os.path.join(path_dir, \"test_batch\")\n",
    "        dico = unpickle(path_batch_test)\n",
    "        y_test = np.array(dico[b\"labels\"])\n",
    "        x_test = np.array(dico[b\"data\"])\n",
    "        \n",
    "            \n",
    "        x_train = (x_train/255).reshape(-1,32,32,3, order = \"F\")\n",
    "        x_test = (x_test/255).reshape(-1,32,32,3, order = \"F\")\n",
    "        \n",
    "        \n",
    "    return x_train, x_test\n",
    "\n",
    "x_train, x_test = load_data(\"cifar\") "
   ]
  },
  {
   "cell_type": "code",
   "execution_count": 4,
   "id": "8fdbbac5",
   "metadata": {},
   "outputs": [
    {
     "name": "stdout",
     "output_type": "stream",
     "text": [
      "(50000, 32, 32, 3)\n",
      "(10000, 32, 32, 3)\n"
     ]
    }
   ],
   "source": [
    "print(x_train.shape)\n",
    "\n",
    "print(x_test.shape)\n"
   ]
  },
  {
   "cell_type": "code",
   "execution_count": 5,
   "id": "5efbcba4",
   "metadata": {},
   "outputs": [
    {
     "data": {
      "text/plain": [
       "(32, 32, 3)"
      ]
     },
     "execution_count": 5,
     "metadata": {},
     "output_type": "execute_result"
    }
   ],
   "source": [
    "dims_data = x_train[0].shape\n",
    "dims_data"
   ]
  },
  {
   "cell_type": "code",
   "execution_count": 6,
   "id": "72c48e3d",
   "metadata": {},
   "outputs": [
    {
     "data": {
      "image/png": "[encoded data removed]",
      "text/plain": [
       "<Figure size 432x288 with 1 Axes>"
      ]
     },
     "metadata": {
      "needs_background": "light"
     },
     "output_type": "display_data"
    }
   ],
   "source": [
    "imgplot = plt.imshow(x_test[650])\n"
   ]
  },
  {
   "cell_type": "markdown",
   "id": "05c0607a",
   "metadata": {},
   "source": [
    "# Data Augmentation"
   ]
  },
  {
   "cell_type": "code",
   "execution_count": 7,
   "id": "40ff461f",
   "metadata": {},
   "outputs": [
    {
     "name": "stdout",
     "output_type": "stream",
     "text": [
      "WARNING:tensorflow:Using a while_loop for converting RngReadAndSkip cause there is no registered converter for this op.\n",
      "WARNING:tensorflow:Using a while_loop for converting Bitcast cause there is no registered converter for this op.\n",
      "WARNING:tensorflow:Using a while_loop for converting Bitcast cause there is no registered converter for this op.\n",
      "WARNING:tensorflow:Using a while_loop for converting StatelessRandomUniformV2 cause there is no registered converter for this op.\n",
      "WARNING:tensorflow:Using a while_loop for converting ImageProjectiveTransformV3 cause there is no registered converter for this op.\n",
      "WARNING:tensorflow:Using a while_loop for converting RngReadAndSkip cause there is no registered converter for this op.\n",
      "WARNING:tensorflow:Using a while_loop for converting Bitcast cause there is no registered converter for this op.\n",
      "WARNING:tensorflow:Using a while_loop for converting Bitcast cause there is no registered converter for this op.\n",
      "WARNING:tensorflow:Using a while_loop for converting StatelessRandomUniformV2 cause there is no registered converter for this op.\n",
      "WARNING:tensorflow:Using a while_loop for converting ImageProjectiveTransformV3 cause there is no registered converter for this op.\n"
     ]
    }
   ],
   "source": [
    "\n",
    "x_train_tf = tf.data.Dataset.from_tensor_slices((x_train, x_train))\n",
    "x_test_tf = tf.data.Dataset.from_tensor_slices((x_test, x_test))\n",
    "\n",
    "batch_size = 32\n",
    "AUTOTUNE = tf.data.AUTOTUNE\n",
    "\n",
    "def prepare(ds, shuffle=False, augment=False):\n",
    "    data_augmentation = tf.keras.Sequential([\n",
    "        layers.RandomFlip(\"horizontal_and_vertical\"),\n",
    "        layers.RandomRotation(0.2),\n",
    "        ])\n",
    "\n",
    "\n",
    "    if shuffle:\n",
    "        ds = ds.shuffle(1000)\n",
    "\n",
    "    # Batch all datasets.\n",
    "    ds = ds.batch(batch_size)\n",
    "\n",
    "    # Use data augmentation only on the training set.\n",
    "    def apply_augment(x,y):\n",
    "        res = data_augmentation(x, training=True)\n",
    "        return res, res\n",
    "    \n",
    "    if augment:\n",
    "        ds = ds.map(apply_augment, \n",
    "                num_parallel_calls=AUTOTUNE)\n",
    "\n",
    "    # Use buffered prefetching on all datasets.\n",
    "    return ds.prefetch(buffer_size=AUTOTUNE)\n",
    "\n",
    "x_train_tf = prepare(x_train_tf, shuffle=True, augment=True)\n",
    "\n",
    "x_test_tf = prepare(x_test_tf)\n"
   ]
  },
  {
   "cell_type": "markdown",
   "id": "fd70e9d5",
   "metadata": {},
   "source": [
    "# Train"
   ]
  },
  {
   "cell_type": "code",
   "execution_count": 8,
   "id": "794d762a",
   "metadata": {},
   "outputs": [
    {
     "name": "stdout",
     "output_type": "stream",
     "text": [
      "Model: \"autoencoder_w_cnn\"\n",
      "_________________________________________________________________\n",
      " Layer (type)                Output Shape              Param #   \n",
      "=================================================================\n",
      " sequential_2 (Sequential)   (None, 121)               1744313   \n",
      "                                                                 \n",
      " sequential_3 (Sequential)   (None, 32, 32, 3)         3149440   \n",
      "                                                                 \n",
      "=================================================================\n",
      "Total params: 4,893,753\n",
      "Trainable params: 4,893,753\n",
      "Non-trainable params: 0\n",
      "_________________________________________________________________\n"
     ]
    }
   ],
   "source": [
    "latent_dim_root_sqrt = 11\n",
    "\n",
    "\n",
    "dim_dense_decoder = functools.reduce(lambda a,b : a*b, dims_data)\n",
    "\n",
    "class Autoencoder(Model):\n",
    "    def __init__(self, latent_dim):\n",
    "        super(Autoencoder, self).__init__()\n",
    "        self.latent_dim = latent_dim   \n",
    "        \n",
    "        self.encoder = tf.keras.Sequential([layers.Flatten(), layers.Dense(latent_dim, activation='relu'),])\n",
    "        \n",
    "        self.decoder = tf.keras.Sequential([layers.Dense(dim_dense_decoder, activation='sigmoid'),layers.Reshape(dims_data)])\n",
    "\n",
    "    def call(self, x):\n",
    "        encoded = self.encoder(x)\n",
    "        decoded = self.decoder(encoded)\n",
    "        return decoded\n",
    "\n",
    "class Autoencoder_W_CNN(Model):\n",
    "    def __init__(self, latent_dim_root_sqrt):\n",
    "        super(Autoencoder_W_CNN, self).__init__()\n",
    "        self.latent_dim_root_sqrt = latent_dim_root_sqrt\n",
    "        \n",
    "        self.encoder = tf.keras.Sequential([\n",
    "                                            \n",
    "                                            layers.Conv2D(64, (3, 3), activation='relu'),\n",
    "                                            layers.MaxPooling2D((2, 2)),\n",
    "                                            layers.Flatten(),\n",
    "                                            \n",
    "                                            layers.Dense(latent_dim_root_sqrt**2, activation='relu') ])\n",
    "\n",
    "\n",
    "        self.decoder = tf.keras.Sequential([\n",
    "                                            \n",
    "                                            layers.Reshape((latent_dim_root_sqrt,-1,1)),\n",
    "            \n",
    "                                            layers.Conv2D(64, (3, 3), activation='relu'),\n",
    "                                            layers.MaxPooling2D((2, 2)),\n",
    "                                            layers.Flatten(),\n",
    "            \n",
    "                                            layers.Dense(dim_dense_decoder, activation='sigmoid'),\n",
    "                                            layers.Reshape(dims_data)\n",
    "                                            ])\n",
    "\n",
    "\n",
    "    def call(self, x):\n",
    "        encoded = self.encoder(x)\n",
    "        decoded = self.decoder(encoded)\n",
    "        return decoded    \n",
    "    \n",
    "    \n",
    "    \n",
    "autoencoder = Autoencoder_W_CNN(latent_dim_root_sqrt)\n",
    "autoencoder.compile(optimizer='adam', loss=losses.MeanSquaredError())\n",
    "autoencoder.build((None, 32, 32, 3))\n",
    "autoencoder.summary()"
   ]
  },
  {
   "cell_type": "code",
   "execution_count": 9,
   "id": "80f11cd5",
   "metadata": {},
   "outputs": [],
   "source": [
    "checkpoint_path = \"./model/best_basic_cifar\"\n",
    "\n",
    "save_callback = tf.keras.callbacks.ModelCheckpoint(\n",
    "    filepath=checkpoint_path, \n",
    "    save_best_only = True,\n",
    "    monitor = 'val_loss',\n",
    "    verbose=1)\n",
    "\n",
    "early_stop_callback = tf.keras.callbacks.EarlyStopping(monitor='loss', patience=3)"
   ]
  },
  {
   "cell_type": "code",
   "execution_count": 10,
   "id": "27fe7bac",
   "metadata": {
    "scrolled": true
   },
   "outputs": [
    {
     "name": "stdout",
     "output_type": "stream",
     "text": [
      "Epoch 1/15\n",
      "1563/1563 [==============================] - ETA: 0s - loss: 0.0187\n",
      "Epoch 1: val_loss improved from inf to 0.01775, saving model to ./model\\best_basic_cifar\n"
     ]
    },
    {
     "name": "stderr",
     "output_type": "stream",
     "text": [
      "WARNING:absl:Found untraced functions such as _jit_compiled_convolution_op, _jit_compiled_convolution_op while saving (showing 2 of 2). These functions will not be directly callable after loading.\n"
     ]
    },
    {
     "name": "stdout",
     "output_type": "stream",
     "text": [
      "INFO:tensorflow:Assets written to: ./model\\best_basic_cifar\\assets\n"
     ]
    },
    {
     "name": "stderr",
     "output_type": "stream",
     "text": [
      "INFO:tensorflow:Assets written to: ./model\\best_basic_cifar\\assets\n"
     ]
    },
    {
     "name": "stdout",
     "output_type": "stream",
     "text": [
      "1563/1563 [==============================] - 94s 59ms/step - loss: 0.0187 - val_loss: 0.0177\n",
      "Epoch 2/15\n",
      "1562/1563 [============================>.] - ETA: 0s - loss: 0.0140\n",
      "Epoch 2: val_loss improved from 0.01775 to 0.01713, saving model to ./model\\best_basic_cifar\n"
     ]
    },
    {
     "name": "stderr",
     "output_type": "stream",
     "text": [
      "WARNING:absl:Found untraced functions such as _jit_compiled_convolution_op, _jit_compiled_convolution_op while saving (showing 2 of 2). These functions will not be directly callable after loading.\n"
     ]
    },
    {
     "name": "stdout",
     "output_type": "stream",
     "text": [
      "INFO:tensorflow:Assets written to: ./model\\best_basic_cifar\\assets\n"
     ]
    },
    {
     "name": "stderr",
     "output_type": "stream",
     "text": [
      "INFO:tensorflow:Assets written to: ./model\\best_basic_cifar\\assets\n"
     ]
    },
    {
     "name": "stdout",
     "output_type": "stream",
     "text": [
      "1563/1563 [==============================] - 96s 61ms/step - loss: 0.0140 - val_loss: 0.0171\n",
      "Epoch 3/15\n",
      "1562/1563 [============================>.] - ETA: 0s - loss: 0.0134\n",
      "Epoch 3: val_loss improved from 0.01713 to 0.01661, saving model to ./model\\best_basic_cifar\n"
     ]
    },
    {
     "name": "stderr",
     "output_type": "stream",
     "text": [
      "WARNING:absl:Found untraced functions such as _jit_compiled_convolution_op, _jit_compiled_convolution_op while saving (showing 2 of 2). These functions will not be directly callable after loading.\n"
     ]
    },
    {
     "name": "stdout",
     "output_type": "stream",
     "text": [
      "INFO:tensorflow:Assets written to: ./model\\best_basic_cifar\\assets\n"
     ]
    },
    {
     "name": "stderr",
     "output_type": "stream",
     "text": [
      "INFO:tensorflow:Assets written to: ./model\\best_basic_cifar\\assets\n"
     ]
    },
    {
     "name": "stdout",
     "output_type": "stream",
     "text": [
      "1563/1563 [==============================] - 98s 63ms/step - loss: 0.0133 - val_loss: 0.0166\n",
      "Epoch 4/15\n",
      "1562/1563 [============================>.] - ETA: 0s - loss: 0.0130\n",
      "Epoch 4: val_loss improved from 0.01661 to 0.01636, saving model to ./model\\best_basic_cifar\n"
     ]
    },
    {
     "name": "stderr",
     "output_type": "stream",
     "text": [
      "WARNING:absl:Found untraced functions such as _jit_compiled_convolution_op, _jit_compiled_convolution_op while saving (showing 2 of 2). These functions will not be directly callable after loading.\n"
     ]
    },
    {
     "name": "stdout",
     "output_type": "stream",
     "text": [
      "INFO:tensorflow:Assets written to: ./model\\best_basic_cifar\\assets\n"
     ]
    },
    {
     "name": "stderr",
     "output_type": "stream",
     "text": [
      "INFO:tensorflow:Assets written to: ./model\\best_basic_cifar\\assets\n"
     ]
    },
    {
     "name": "stdout",
     "output_type": "stream",
     "text": [
      "1563/1563 [==============================] - 100s 64ms/step - loss: 0.0130 - val_loss: 0.0164\n",
      "Epoch 5/15\n",
      "1562/1563 [============================>.] - ETA: 0s - loss: 0.0129\n",
      "Epoch 5: val_loss improved from 0.01636 to 0.01630, saving model to ./model\\best_basic_cifar\n"
     ]
    },
    {
     "name": "stderr",
     "output_type": "stream",
     "text": [
      "WARNING:absl:Found untraced functions such as _jit_compiled_convolution_op, _jit_compiled_convolution_op while saving (showing 2 of 2). These functions will not be directly callable after loading.\n"
     ]
    },
    {
     "name": "stdout",
     "output_type": "stream",
     "text": [
      "INFO:tensorflow:Assets written to: ./model\\best_basic_cifar\\assets\n"
     ]
    },
    {
     "name": "stderr",
     "output_type": "stream",
     "text": [
      "INFO:tensorflow:Assets written to: ./model\\best_basic_cifar\\assets\n"
     ]
    },
    {
     "name": "stdout",
     "output_type": "stream",
     "text": [
      "1563/1563 [==============================] - 103s 66ms/step - loss: 0.0129 - val_loss: 0.0163\n",
      "Epoch 6/15\n",
      "1562/1563 [============================>.] - ETA: 0s - loss: 0.0129\n",
      "Epoch 6: val_loss did not improve from 0.01630\n",
      "1563/1563 [==============================] - 97s 62ms/step - loss: 0.0129 - val_loss: 0.0164\n",
      "Epoch 7/15\n",
      "1562/1563 [============================>.] - ETA: 0s - loss: 0.0128\n",
      "Epoch 7: val_loss improved from 0.01630 to 0.01626, saving model to ./model\\best_basic_cifar\n"
     ]
    },
    {
     "name": "stderr",
     "output_type": "stream",
     "text": [
      "WARNING:absl:Found untraced functions such as _jit_compiled_convolution_op, _jit_compiled_convolution_op while saving (showing 2 of 2). These functions will not be directly callable after loading.\n"
     ]
    },
    {
     "name": "stdout",
     "output_type": "stream",
     "text": [
      "INFO:tensorflow:Assets written to: ./model\\best_basic_cifar\\assets\n"
     ]
    },
    {
     "name": "stderr",
     "output_type": "stream",
     "text": [
      "INFO:tensorflow:Assets written to: ./model\\best_basic_cifar\\assets\n"
     ]
    },
    {
     "name": "stdout",
     "output_type": "stream",
     "text": [
      "1563/1563 [==============================] - 103s 66ms/step - loss: 0.0128 - val_loss: 0.0163\n",
      "Epoch 8/15\n",
      "1562/1563 [============================>.] - ETA: 0s - loss: 0.0128\n",
      "Epoch 8: val_loss improved from 0.01626 to 0.01618, saving model to ./model\\best_basic_cifar\n"
     ]
    },
    {
     "name": "stderr",
     "output_type": "stream",
     "text": [
      "WARNING:absl:Found untraced functions such as _jit_compiled_convolution_op, _jit_compiled_convolution_op while saving (showing 2 of 2). These functions will not be directly callable after loading.\n"
     ]
    },
    {
     "name": "stdout",
     "output_type": "stream",
     "text": [
      "INFO:tensorflow:Assets written to: ./model\\best_basic_cifar\\assets\n"
     ]
    },
    {
     "name": "stderr",
     "output_type": "stream",
     "text": [
      "INFO:tensorflow:Assets written to: ./model\\best_basic_cifar\\assets\n"
     ]
    },
    {
     "name": "stdout",
     "output_type": "stream",
     "text": [
      "1563/1563 [==============================] - 101s 65ms/step - loss: 0.0128 - val_loss: 0.0162\n",
      "Epoch 9/15\n",
      "1562/1563 [============================>.] - ETA: 0s - loss: 0.0127\n",
      "Epoch 9: val_loss improved from 0.01618 to 0.01614, saving model to ./model\\best_basic_cifar\n"
     ]
    },
    {
     "name": "stderr",
     "output_type": "stream",
     "text": [
      "WARNING:absl:Found untraced functions such as _jit_compiled_convolution_op, _jit_compiled_convolution_op while saving (showing 2 of 2). These functions will not be directly callable after loading.\n"
     ]
    },
    {
     "name": "stdout",
     "output_type": "stream",
     "text": [
      "INFO:tensorflow:Assets written to: ./model\\best_basic_cifar\\assets\n"
     ]
    },
    {
     "name": "stderr",
     "output_type": "stream",
     "text": [
      "INFO:tensorflow:Assets written to: ./model\\best_basic_cifar\\assets\n"
     ]
    },
    {
     "name": "stdout",
     "output_type": "stream",
     "text": [
      "1563/1563 [==============================] - 102s 65ms/step - loss: 0.0127 - val_loss: 0.0161\n",
      "Epoch 10/15\n",
      "1562/1563 [============================>.] - ETA: 0s - loss: 0.0127\n",
      "Epoch 10: val_loss did not improve from 0.01614\n",
      "1563/1563 [==============================] - 98s 62ms/step - loss: 0.0127 - val_loss: 0.0162\n",
      "Epoch 11/15\n",
      "1563/1563 [==============================] - ETA: 0s - loss: 0.0127\n",
      "Epoch 11: val_loss improved from 0.01614 to 0.01612, saving model to ./model\\best_basic_cifar\n"
     ]
    },
    {
     "name": "stderr",
     "output_type": "stream",
     "text": [
      "WARNING:absl:Found untraced functions such as _jit_compiled_convolution_op, _jit_compiled_convolution_op while saving (showing 2 of 2). These functions will not be directly callable after loading.\n"
     ]
    },
    {
     "name": "stdout",
     "output_type": "stream",
     "text": [
      "INFO:tensorflow:Assets written to: ./model\\best_basic_cifar\\assets\n"
     ]
    },
    {
     "name": "stderr",
     "output_type": "stream",
     "text": [
      "INFO:tensorflow:Assets written to: ./model\\best_basic_cifar\\assets\n"
     ]
    },
    {
     "name": "stdout",
     "output_type": "stream",
     "text": [
      "1563/1563 [==============================] - 103s 66ms/step - loss: 0.0127 - val_loss: 0.0161\n",
      "Epoch 12/15\n",
      "1562/1563 [============================>.] - ETA: 0s - loss: 0.0126\n",
      "Epoch 12: val_loss improved from 0.01612 to 0.01604, saving model to ./model\\best_basic_cifar\n"
     ]
    },
    {
     "name": "stderr",
     "output_type": "stream",
     "text": [
      "WARNING:absl:Found untraced functions such as _jit_compiled_convolution_op, _jit_compiled_convolution_op while saving (showing 2 of 2). These functions will not be directly callable after loading.\n"
     ]
    },
    {
     "name": "stdout",
     "output_type": "stream",
     "text": [
      "INFO:tensorflow:Assets written to: ./model\\best_basic_cifar\\assets\n"
     ]
    },
    {
     "name": "stderr",
     "output_type": "stream",
     "text": [
      "INFO:tensorflow:Assets written to: ./model\\best_basic_cifar\\assets\n"
     ]
    },
    {
     "name": "stdout",
     "output_type": "stream",
     "text": [
      "1563/1563 [==============================] - 102s 65ms/step - loss: 0.0126 - val_loss: 0.0160\n",
      "Epoch 13/15\n",
      "1562/1563 [============================>.] - ETA: 0s - loss: 0.0126\n",
      "Epoch 13: val_loss did not improve from 0.01604\n",
      "1563/1563 [==============================] - 99s 64ms/step - loss: 0.0126 - val_loss: 0.0161\n",
      "Epoch 14/15\n",
      "1562/1563 [============================>.] - ETA: 0s - loss: 0.0126\n",
      "Epoch 14: val_loss did not improve from 0.01604\n",
      "1563/1563 [==============================] - 102s 65ms/step - loss: 0.0126 - val_loss: 0.0161\n",
      "Epoch 15/15\n",
      "1563/1563 [==============================] - ETA: 0s - loss: 0.0126\n",
      "Epoch 15: val_loss did not improve from 0.01604\n",
      "1563/1563 [==============================] - 102s 66ms/step - loss: 0.0126 - val_loss: 0.0162\n"
     ]
    }
   ],
   "source": [
    "load_mode = False\n",
    "#load_mode = False\n",
    "\n",
    "if load_mode :\n",
    "    \n",
    "    autoencoder = tf.keras.models.load_model(checkpoint_path)\n",
    "    \n",
    "else :\n",
    "    hist = autoencoder.fit(x_train_tf,\n",
    "                callbacks=[save_callback, early_stop_callback],\n",
    "                epochs=15,\n",
    "                shuffle=True,\n",
    "                validation_data=x_test_tf)"
   ]
  },
  {
   "cell_type": "code",
   "execution_count": 11,
   "id": "5291a19f",
   "metadata": {},
   "outputs": [
    {
     "data": {
      "image/png": "[encoded data removed]",
      "text/plain": [
       "<Figure size 432x288 with 1 Axes>"
      ]
     },
     "metadata": {
      "needs_background": "light"
     },
     "output_type": "display_data"
    }
   ],
   "source": [
    "if not load_mode :\n",
    "    fig =plt.figure()\n",
    "    plt.plot(hist.history['loss'], color ='teal', label ='train_loss')\n",
    "    plt.plot(hist.history['val_loss'], color ='red', label ='val_loss')\n",
    "    fig.suptitle('Loss', fontsize =20)\n",
    "    plt.legend(loc =\"upper left\")\n",
    "    plt.show()\n",
    "else :\n",
    "    autoencoder.summary()"
   ]
  },
  {
   "cell_type": "markdown",
   "id": "2a83e3d9",
   "metadata": {},
   "source": [
    "# Test"
   ]
  },
  {
   "cell_type": "code",
   "execution_count": 12,
   "id": "8ab0caa4",
   "metadata": {},
   "outputs": [],
   "source": [
    "id_current = 15"
   ]
  },
  {
   "cell_type": "code",
   "execution_count": 13,
   "id": "5708e1a3",
   "metadata": {},
   "outputs": [
    {
     "data": {
      "image/png": "[encoded data removed]",
      "text/plain": [
       "<Figure size 432x288 with 1 Axes>"
      ]
     },
     "metadata": {
      "needs_background": "light"
     },
     "output_type": "display_data"
    }
   ],
   "source": [
    "imgplot = plt.imshow(x_test[id_current])"
   ]
  },
  {
   "cell_type": "code",
   "execution_count": 14,
   "id": "dc21922c",
   "metadata": {},
   "outputs": [
    {
     "data": {
      "image/png": "[encoded data removed]",
      "text/plain": [
       "<Figure size 432x288 with 1 Axes>"
      ]
     },
     "metadata": {
      "needs_background": "light"
     },
     "output_type": "display_data"
    }
   ],
   "source": [
    "encoded_imgs_test = autoencoder.encoder(x_test).numpy()\n",
    "decoded_imgs = autoencoder.decoder(encoded_imgs_test).numpy()\n",
    "\n",
    "imgplot = plt.imshow(decoded_imgs[id_current])"
   ]
  },
  {
   "cell_type": "code",
   "execution_count": null,
   "id": "8ea7ffd3",
   "metadata": {},
   "outputs": [],
   "source": []
  },
  {
   "cell_type": "code",
   "execution_count": 15,
   "id": "1369449c",
   "metadata": {},
   "outputs": [
    {
     "data": {
      "text/plain": [
       "<AxesSubplot:>"
      ]
     },
     "execution_count": 15,
     "metadata": {},
     "output_type": "execute_result"
    },
    {
     "data": {
      "image/png": "[encoded data removed]",
      "text/plain": [
       "<Figure size 432x288 with 1 Axes>"
      ]
     },
     "metadata": {
      "needs_background": "light"
     },
     "output_type": "display_data"
    }
   ],
   "source": [
    "df_tmp = pd.DataFrame(encoded_imgs_test)\n",
    "df_tmp.boxplot()"
   ]
  },
  {
   "cell_type": "markdown",
   "id": "db4d6b42",
   "metadata": {},
   "source": [
    "# Noise"
   ]
  },
  {
   "cell_type": "code",
   "execution_count": 23,
   "id": "07955abb",
   "metadata": {},
   "outputs": [],
   "source": [
    "def random_from_distrib(distrib) :\n",
    "    #distrib = distrib.reshape(-1)\n",
    "\n",
    "    n, size = distrib.shape\n",
    "    \n",
    "    \n",
    "    out = np.array([rd.choice(distrib[:,j]) for j in range(size)])\n",
    "    \n",
    "    return out"
   ]
  },
  {
   "cell_type": "code",
   "execution_count": 24,
   "id": "bf392771",
   "metadata": {},
   "outputs": [],
   "source": [
    "\n",
    "def get_generated_images(model, distrib, count = 1) :\n",
    "    \n",
    "    noise_list = []\n",
    "    for i in range(count) : \n",
    "        \n",
    "        noise_list.append(random_from_distrib(distrib) ) \n",
    "        \n",
    "    noise_array = np.array(noise_list)\n",
    "    noise_decoded = model.decoder(noise_array).numpy()\n",
    "    \n",
    "    return noise_decoded\n",
    "\n",
    "\n"
   ]
  },
  {
   "cell_type": "code",
   "execution_count": 25,
   "id": "bd772128",
   "metadata": {},
   "outputs": [
    {
     "data": {
      "image/png": "[encoded data removed]",
      "text/plain": [
       "<Figure size 1008x576 with 15 Axes>"
      ]
     },
     "metadata": {
      "needs_background": "light"
     },
     "output_type": "display_data"
    }
   ],
   "source": [
    "generated_images = get_generated_images(autoencoder,encoded_imgs_test, count = 15)\n",
    "fig, ax = plt.subplots(3, 5, figsize=(14,8))\n",
    "fig.tight_layout()\n",
    "\n",
    "#create subplots\n",
    "for i in range(5) :\n",
    "    for j in range(3) :\n",
    "        ax[j, i].imshow(generated_images[j*5+i])\n"
   ]
  },
  {
   "cell_type": "code",
   "execution_count": null,
   "id": "174c7b24",
   "metadata": {},
   "outputs": [],
   "source": []
  },
  {
   "cell_type": "code",
   "execution_count": 19,
   "id": "8d935430",
   "metadata": {},
   "outputs": [
    {
     "data": {
      "text/plain": [
       "0.91471016"
      ]
     },
     "execution_count": 19,
     "metadata": {},
     "output_type": "execute_result"
    }
   ],
   "source": [
    "generated_images[j*5+i].max()"
   ]
  },
  {
   "cell_type": "code",
   "execution_count": null,
   "id": "975cd1d3",
   "metadata": {},
   "outputs": [],
   "source": []
  },
  {
   "cell_type": "code",
   "execution_count": null,
   "id": "8614815d",
   "metadata": {},
   "outputs": [],
   "source": []
  }
 ],
 "metadata": {
  "kernelspec": {
   "display_name": "Python 3 (ipykernel)",
   "language": "python",
   "name": "python3"
  },
  "language_info": {
   "codemirror_mode": {
    "name": "ipython",
    "version": 3
   },
   "file_extension": ".py",
   "mimetype": "text/x-python",
   "name": "python",
   "nbconvert_exporter": "python",
   "pygments_lexer": "ipython3",
   "version": "3.9.12"
  }
 },
 "nbformat": 4,
 "nbformat_minor": 5
}
